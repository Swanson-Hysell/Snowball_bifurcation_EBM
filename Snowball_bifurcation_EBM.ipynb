{
 "cells": [
  {
   "cell_type": "markdown",
   "id": "61ed758a",
   "metadata": {},
   "source": [
    "# Snowball bifurcation energy balance model\n",
    "\n",
    "This notebook implements the 0-D energy balance model of Pierrehumbert et al. (2011). \n",
    "It utilizes the Python script published by Pierrehumbert et al. (2011) which itself uses the ClimateUtilities modules.\n",
    "\n",
    "This is the text that Pierrehumbert et al. (2011) wrote regarding the modules that are imported in the code cell below:\n",
    "```\n",
    "#-----Import needed libararies---\n",
    "#The following two libraries are distributed free as\n",
    "#part of the courseware supplement for Principles of Planetary Climate.\n",
    "#They can be downloaded from\n",
    "#   http://geosci.uchicago.edu/~rtp1/PrinciplesPlanetaryClimate/Courseware/coursewarePortal.html\n",
    "#The module ClimateUtilities needs the module ClimateGraphics.py, if you\n",
    "#intend to install Ngl graphics and do your graphics within Python, or\n",
    "#DummyGraphics.py if you plan to dump the results to a text file and\n",
    "#plot it using some other graphics package.\n",
    "#\n",
    "```\n",
    "\n",
    "With this additional description regarding ```OLRPoly```:\n",
    "\n",
    "```\n",
    "#The following is a specialized form of the polynomial fit\n",
    "#to OLR vs surface temperature and CO2, including the effects\n",
    "#of pressure broadening.  It is distributed as part of the\n",
    "#supplementary material on the AREPS site\n",
    "```"
   ]
  },
  {
   "cell_type": "code",
   "execution_count": 1,
   "id": "36bf29c5",
   "metadata": {},
   "outputs": [
    {
     "name": "stdout",
     "output_type": "stream",
     "text": [
      "Version for debugging readTable\n",
      "Using Sandbox version of ClimateGraphicsMPL\n",
      "Using MatPlotLib graphics\n"
     ]
    }
   ],
   "source": [
    "from ClimateUtilities import *\n",
    "import phys\n",
    "import OLRPoly"
   ]
  },
  {
   "cell_type": "markdown",
   "id": "2f0856a9",
   "metadata": {},
   "source": [
    "## Generating ice-albedo bifurcation visualization using EBM\n",
    "\n",
    "The code cell below is the script published by Pierrehumbert et al. 2011 that generates the results of their Figure 3. "
   ]
  },
  {
   "cell_type": "code",
   "execution_count": 2,
   "id": "53747f74-d6f9-41a0-b0ae-da95635c0bd7",
   "metadata": {},
   "outputs": [
    {
     "data": {
      "image/png": "[encoded data removed]",
      "text/plain": [
       "<Figure size 432x288 with 1 Axes>"
      ]
     },
     "metadata": {
      "needs_background": "light"
     },
     "output_type": "display_data"
    },
    {
     "data": {
      "text/plain": [
       "<ClimateGraphicsMPL.plotObj at 0x7fbc51adab80>"
      ]
     },
     "execution_count": 2,
     "metadata": {},
     "output_type": "execute_result"
    }
   ],
   "source": [
    "#--------------------------------------------------------------\n",
    "#\n",
    "# This Python script was used to do the computations that\n",
    "# went into the basic ice-albedo bifurcation diagram in\n",
    "# Figure 3 .\n",
    "#--------------------------------------------------------------\n",
    "#Note that the graph in Figure 3 has been fancied up using Adobe\n",
    "#illustrator. The software below just produces the basic set of\n",
    "#curves that are the basis of the graph. It does not automatically\n",
    "#mark the unstable branch with dashed lines, as has been done\n",
    "#in Figure 3. This code could be easily modified to do that, but\n",
    "#that feature has been left out in order to keep the code simpler\n",
    "#and easier to understand. \n",
    "\n",
    "#Define albedo and OLR functions here\n",
    "#Radiating pressure pRad, in mb, is a global\n",
    "#Note that the CO2 inventory is not the conventional\n",
    "#CO2 concentration, but instead the CO2 inventory (in Pa)\n",
    "#defined in the article.  The pressure broadening is\n",
    "#computed on the basis of 1 bar (1.e5 Pa) of non-CO2 dry\n",
    "#air. The effect of water vapor with 50% relative humidity\n",
    "#is included.\n",
    "def OLR(T,CO2):\n",
    "    return OLRPoly.OLRT(CO2,T)\n",
    "\n",
    "#Write Newton solver to get T(CO2)\n",
    "def fOLR(CO2,params):\n",
    "    return OLRPoly.OLRT(CO2,params.T) - params.flux\n",
    "m = newtSolve(fOLR)\n",
    "params = Dummy()\n",
    "m.setParams(params)\n",
    "\n",
    "#Parameters of albedo function are globals\n",
    "def albedo(T):\n",
    "    if T < T1:\n",
    "        return alpha_ice\n",
    "    elif (T >= T1)&(T<=T2):\n",
    "        r = (T-T2)**2/(T2-T1)**2\n",
    "        return alpha_0 + (alpha_ice - alpha_0)*r\n",
    "    else:\n",
    "        return alpha_0\n",
    "\n",
    "def BifurcCO2(Tlist,L,cloud=0.):\n",
    "    CO2L = 100.\n",
    "    SabsList = []\n",
    "    CO2List = []\n",
    "    OLRlist = []\n",
    "    NetFluxlist = []\n",
    "    Glist = []\n",
    "\n",
    "    for T in Tlist:\n",
    "        params.flux = (1.-albedo(T))*L/4. + cloud\n",
    "        params.T = T\n",
    "        try:\n",
    "            CO2L = m(CO2L)\n",
    "            slask = 1.*CO2L\n",
    "            CO2List.append(CO2L)\n",
    "        except:\n",
    "            CO2List.append(1.e-5)\n",
    "            CO2L = 1000.\n",
    "    return CO2List\n",
    "\n",
    "#Utilitity for finding left and right limits of\n",
    "#hysteresis loop. V is the  list of values of the\n",
    "#control parameter corresoponding to the list of\n",
    "#temperatures in ascending order. Typically V\n",
    "#would contain CO2 concentrations or inventories\n",
    "def TurningPoints(V):\n",
    "    results = []\n",
    "    for i in range(3,len(V)-3):\n",
    "        if (V[i-3]-V[i])*(V[i]-V[i+3]) < 0.:\n",
    "            results.append(V[i])\n",
    "    return results\n",
    "\n",
    "#=========Function Definitions Done============================\n",
    "#              Main body of script starts here\n",
    "#==============================================================\n",
    "\n",
    "#Set up a list of temperature values for the bifurcation plot\n",
    "Tlist = [340.-i  for i in range(340-220)]\n",
    "\n",
    "#Set up a Curve() object to contain the results. The\n",
    "#results consist of a set of columns of the CO2 values\n",
    "#that correspond to each temperature, including ice-albedo\n",
    "#feedback\n",
    "c = Curve()\n",
    "c.addCurve(Tlist,'Ts')\n",
    "#Plotting options. (ignored if you aren't using\n",
    "#the plot function in ClimateUtilities, and are\n",
    "#instead just dumping the results to a text file)\n",
    "c.switchXY = True #Switches axis so it looks like a hysteresis plot\n",
    "c.PlotTitle = 'Bifurcation diagram'\n",
    "c.Xlabel = 'Surface Temperature (K)'\n",
    "c.Ylabel = 'CO2 (Pa)'\n",
    "c.XlogAxis = True\n",
    "\n",
    "#Now loop over the parameters you wish to vary, and\n",
    "#add a curve to the bifurcation diagram for each parameter\n",
    "#set. This loop is set up to vary the ice albedo, but you\n",
    "#can instead loop over anything else you want to explore\n",
    "for alpha_ice in [.55,.6,.65]:\n",
    "    L = .94*1367. #Neoproterozoic value of solar constant\n",
    "    #alpha_ice = .6 # Ice albedo.\n",
    "                    #Set value here if you are looping over something else\n",
    "    alpha_0 = .2 #Ocean albedo\n",
    "    T1 = 260.    #Temperature at which planet is ice-covered\n",
    "    T2 = 290.    #Temperature at which planet is ice-free\n",
    "    cloudOffset = 20. #Cloud longwave forcing (W/m**2)\n",
    "    #Now calculate the list of CO2 corresponding to the temperatures\n",
    "    CO2List = BifurcCO2(Tlist,L,cloudOffset)\n",
    "    #Put results in the Curve. The second argument makes a column\n",
    "    #header tagged with the value of the parameter you are varying\n",
    "    c.addCurve(CO2List,'CO2_%f'%alpha_ice) \n",
    "\n",
    "#Note that the portions of the diagram where the CO2 goes\n",
    "#below 1 Pa are unphysical, since the OLR fits are not valid\n",
    "#at such low values.  These were masked out in Figure 3 in\n",
    "#the article\n",
    "    \n",
    "#Plot results, or dump to text file\n",
    "#Uncomment the following two lines to plot\n",
    "#the results and save the plot to postscript\n",
    "#w = plot(c)\n",
    "#w.save('SnowballBifurcation')\n",
    "#\n",
    "#Dump the results to a text file for plotting\n",
    "c.dump('code_output/SnowballBifurcationData.txt')\n",
    "\n",
    "plot(c)"
   ]
  },
  {
   "cell_type": "markdown",
   "id": "7453f43d",
   "metadata": {},
   "source": [
    "## Import additional scientific Python modules in order to visualize EBM results"
   ]
  },
  {
   "cell_type": "code",
   "execution_count": 3,
   "id": "d7d003f9-b759-48b8-9847-166f032b5b65",
   "metadata": {},
   "outputs": [],
   "source": [
    "import matplotlib.pyplot as plt\n",
    "import pandas as pd\n",
    "from scipy import interpolate\n",
    "import numpy as np"
   ]
  },
  {
   "cell_type": "markdown",
   "id": "5cd46630",
   "metadata": {},
   "source": [
    "## Set model parameters"
   ]
  },
  {
   "cell_type": "code",
   "execution_count": 4,
   "id": "5be5d588-2f30-444e-bb2e-729ec5c5a294",
   "metadata": {},
   "outputs": [],
   "source": [
    "Tlist = np.arange(340, 210, -0.1)\n",
    "\n",
    "L = .94*1367. #Neoproterozoic value of solar constant\n",
    "alpha_ice = .7\n",
    "alpha_0 = .235 #Surface + low clouds albedo (Ray thinks about it as water world with clouds)\n",
    "T1 = 260.    #Temperature at which planet is ice-covered\n",
    "T2 = 290.    #Temperature at which planet is ice-free\n",
    "cloudOffset = 25. #Cloud longwave forcing (W/m**2)\n",
    "#Now calculate the list of CO2 corresponding to the temperatures\n",
    "CO2List = BifurcCO2(Tlist,L,cloudOffset)\n",
    "\n",
    "CO2List_ppm = [value * 6.6 for value in CO2List]\n",
    "Tlist_c = [value - 273 for value in Tlist]"
   ]
  },
  {
   "cell_type": "code",
   "execution_count": 5,
   "id": "0d4335b9",
   "metadata": {},
   "outputs": [
    {
     "data": {
      "text/plain": [
       "[202.58954246949878,\n",
       " 202.53116577199566,\n",
       " 202.5799590485277,\n",
       " 881895.6428681437,\n",
       " 878967.5039163041,\n",
       " 876036.5536559173]"
      ]
     },
     "execution_count": 5,
     "metadata": {},
     "output_type": "execute_result"
    }
   ],
   "source": [
    "turning_points = TurningPoints(CO2List_ppm)\n",
    "turning_points"
   ]
  },
  {
   "cell_type": "code",
   "execution_count": 6,
   "id": "fddcec6a",
   "metadata": {},
   "outputs": [
    {
     "data": {
      "text/html": [
       "<div>\n",
       "<style scoped>\n",
       "    .dataframe tbody tr th:only-of-type {\n",
       "        vertical-align: middle;\n",
       "    }\n",
       "\n",
       "    .dataframe tbody tr th {\n",
       "        vertical-align: top;\n",
       "    }\n",
       "\n",
       "    .dataframe thead th {\n",
       "        text-align: right;\n",
       "    }\n",
       "</style>\n",
       "<table border=\"1\" class=\"dataframe\">\n",
       "  <thead>\n",
       "    <tr style=\"text-align: right;\">\n",
       "      <th></th>\n",
       "      <th>CO2</th>\n",
       "      <th>temp</th>\n",
       "    </tr>\n",
       "  </thead>\n",
       "  <tbody>\n",
       "    <tr>\n",
       "      <th>0</th>\n",
       "      <td>797856.260411</td>\n",
       "      <td>67.0</td>\n",
       "    </tr>\n",
       "    <tr>\n",
       "      <th>1</th>\n",
       "      <td>792538.398320</td>\n",
       "      <td>66.9</td>\n",
       "    </tr>\n",
       "    <tr>\n",
       "      <th>2</th>\n",
       "      <td>787241.847316</td>\n",
       "      <td>66.8</td>\n",
       "    </tr>\n",
       "    <tr>\n",
       "      <th>3</th>\n",
       "      <td>781966.671394</td>\n",
       "      <td>66.7</td>\n",
       "    </tr>\n",
       "    <tr>\n",
       "      <th>4</th>\n",
       "      <td>776712.933113</td>\n",
       "      <td>66.6</td>\n",
       "    </tr>\n",
       "    <tr>\n",
       "      <th>...</th>\n",
       "      <td>...</td>\n",
       "      <td>...</td>\n",
       "    </tr>\n",
       "    <tr>\n",
       "      <th>1295</th>\n",
       "      <td>2.044440</td>\n",
       "      <td>-62.5</td>\n",
       "    </tr>\n",
       "    <tr>\n",
       "      <th>1296</th>\n",
       "      <td>2.028999</td>\n",
       "      <td>-62.6</td>\n",
       "    </tr>\n",
       "    <tr>\n",
       "      <th>1297</th>\n",
       "      <td>2.014146</td>\n",
       "      <td>-62.7</td>\n",
       "    </tr>\n",
       "    <tr>\n",
       "      <th>1298</th>\n",
       "      <td>1.999857</td>\n",
       "      <td>-62.8</td>\n",
       "    </tr>\n",
       "    <tr>\n",
       "      <th>1299</th>\n",
       "      <td>1.986108</td>\n",
       "      <td>-62.9</td>\n",
       "    </tr>\n",
       "  </tbody>\n",
       "</table>\n",
       "<p>1300 rows × 2 columns</p>\n",
       "</div>"
      ],
      "text/plain": [
       "                CO2  temp\n",
       "0     797856.260411  67.0\n",
       "1     792538.398320  66.9\n",
       "2     787241.847316  66.8\n",
       "3     781966.671394  66.7\n",
       "4     776712.933113  66.6\n",
       "...             ...   ...\n",
       "1295       2.044440 -62.5\n",
       "1296       2.028999 -62.6\n",
       "1297       2.014146 -62.7\n",
       "1298       1.999857 -62.8\n",
       "1299       1.986108 -62.9\n",
       "\n",
       "[1300 rows x 2 columns]"
      ]
     },
     "execution_count": 6,
     "metadata": {},
     "output_type": "execute_result"
    }
   ],
   "source": [
    "results_dict = {'CO2':CO2List_ppm,'temp':Tlist_c}\n",
    "results_df = pd.DataFrame(results_dict)\n",
    "results_df"
   ]
  },
  {
   "cell_type": "markdown",
   "id": "df5f5f47",
   "metadata": {},
   "source": [
    "## Plot model results"
   ]
  },
  {
   "cell_type": "code",
   "execution_count": 7,
   "id": "b4a5efe9-c413-46d6-9f34-0da7471ddcf4",
   "metadata": {},
   "outputs": [
    {
     "data": {
      "image/png": "[encoded data removed]",
      "text/plain": [
       "<Figure size 432x288 with 1 Axes>"
      ]
     },
     "metadata": {
      "needs_background": "light"
     },
     "output_type": "display_data"
    }
   ],
   "source": [
    "plt.plot(CO2List_ppm,Tlist_c,color='k')\n",
    "plt.hlines(T1-273,min(CO2List_ppm),max(CO2List_ppm))\n",
    "plt.hlines(T2-273,min(CO2List_ppm),max(CO2List_ppm))\n",
    "plt.xscale('log')\n",
    "plt.ylabel('global mean temperature (ºC)')\n",
    "plt.xlabel('CO$_2$ level (ppmv)')\n",
    "plt.xlim(100,1500000)\n",
    "plt.ylim(-60,60)\n",
    "plt.savefig('code_output/SnowballBifurcation.svg')"
   ]
  },
  {
   "cell_type": "markdown",
   "id": "d9dcc66b",
   "metadata": {},
   "source": [
    "## Modify model results plot\n",
    "\n",
    "Here we make a simplified plot of just the upper and lower limb without showing the unstable branches. In addition, CO$_2$ decrease scenarios are shown (2 CO$_2$ halvings) starting at different initial global mean temperatures."
   ]
  },
  {
   "cell_type": "code",
   "execution_count": 8,
   "id": "fd292ab7",
   "metadata": {},
   "outputs": [
    {
     "data": {
      "image/png": "[encoded data removed]",
      "text/plain": [
       "<Figure size 432x288 with 1 Axes>"
      ]
     },
     "metadata": {
      "needs_background": "light"
     },
     "output_type": "display_data"
    }
   ],
   "source": [
    "results_upper_limb = results_df[(results_df['temp'] > 9) & (results_df['temp'] < 60)]\n",
    "results_lower_limb = results_df[(results_df['temp'] < T1-273) & (results_df['CO2'] > turning_points[0])]\n",
    "\n",
    "f = interpolate.interp1d(results_upper_limb['CO2'], results_upper_limb['temp'])\n",
    "CO2_interpolate = np.arange(205, 10000, 1)\n",
    "T_interpolate = f(CO2_interpolate)   # use interpolation function returned by `interp1d`\n",
    "plt.plot(results_upper_limb['CO2'], results_upper_limb['temp'], 'o', CO2_interpolate, T_interpolate, '-')\n",
    "plt.xscale('log')\n",
    "plt.show()"
   ]
  },
  {
   "cell_type": "code",
   "execution_count": 9,
   "id": "cb9ceb4e",
   "metadata": {},
   "outputs": [],
   "source": [
    "snowball_onset_CO2 = 205\n",
    "snowball_onset_T = f(snowball_onset_CO2)\n",
    "pre_snowball_onset_CO2 = snowball_onset_CO2 * 2 * 2\n",
    "pre_snowball_onset_T = f(pre_snowball_onset_CO2)\n",
    "\n",
    "cooling_CO2 = 1800\n",
    "cooling_T = f(cooling_CO2)\n",
    "pre_cooling_CO2 = cooling_CO2 * 2 * 2\n",
    "pre_cooling_T = f(pre_cooling_CO2)\n"
   ]
  },
  {
   "cell_type": "code",
   "execution_count": 10,
   "id": "cc138e10-f35e-4140-8587-07b6e83c3b66",
   "metadata": {},
   "outputs": [
    {
     "data": {
      "image/png": "[encoded data removed]",
      "text/plain": [
       "<Figure size 432x288 with 1 Axes>"
      ]
     },
     "metadata": {
      "needs_background": "light"
     },
     "output_type": "display_data"
    }
   ],
   "source": [
    "plt.plot(results_upper_limb['CO2'], results_upper_limb['temp'],color='k')\n",
    "plt.plot(results_lower_limb['CO2'], results_lower_limb['temp'],color='k')\n",
    "plt.hlines(T1-273,min(CO2List_ppm),max(CO2List_ppm)*1.3)\n",
    "plt.hlines(T2-273,min(CO2List_ppm),max(CO2List_ppm)*1.3)\n",
    "plt.scatter(snowball_onset_CO2,snowball_onset_T,\n",
    "            edgecolor='darkred',facecolor='white',marker='o',zorder=100)\n",
    "plt.scatter(pre_snowball_onset_CO2,pre_snowball_onset_T,\n",
    "            edgecolor='darkred',facecolor='white',marker='o',zorder=100)\n",
    "plt.scatter(cooling_CO2,cooling_T,\n",
    "            edgecolor='darkred',facecolor='white',marker='s',zorder=100)\n",
    "plt.scatter(pre_cooling_CO2,pre_cooling_T,\n",
    "            edgecolor='darkred',facecolor='white',marker='s',zorder=100)\n",
    "plt.xscale('log')\n",
    "plt.ylabel('global mean temperature (ºC)')\n",
    "plt.xlabel('CO$_2$ level (ppmv)')\n",
    "plt.xlim(100,max(CO2List_ppm)*1.3)\n",
    "plt.ylim(-60,60)\n",
    "plt.savefig('code_output/SnowballBifurcation_w_decline.svg')"
   ]
  }
 ],
 "metadata": {
  "kernelspec": {
   "display_name": "Python 3.9.12 ('base')",
   "language": "python",
   "name": "python3"
  },
  "language_info": {
   "codemirror_mode": {
    "name": "ipython",
    "version": 3
   },
   "file_extension": ".py",
   "mimetype": "text/x-python",
   "name": "python",
   "nbconvert_exporter": "python",
   "pygments_lexer": "ipython3",
   "version": "3.9.12"
  },
  "vscode": {
   "interpreter": {
    "hash": "e5f07e329e396bfef14d01cfb3c038f46bc2da10659a9022c958c3d0939fb8c0"
   }
  }
 },
 "nbformat": 4,
 "nbformat_minor": 5
}
